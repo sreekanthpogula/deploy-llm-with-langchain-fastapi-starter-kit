{
 "cells": [
  {
   "cell_type": "code",
   "execution_count": 3,
   "id": "83f02ef4",
   "metadata": {},
   "outputs": [
    {
     "name": "stdout",
     "output_type": "stream",
     "text": [
      "Requirement already satisfied: langchain-huggingface in /Users/sreekanthpogula/Learnings/deploy-llm-with-langchain-fastapi-starter-kit/.venv/lib/python3.11/site-packages (0.3.1)\n",
      "Requirement already satisfied: langchain-core<1.0.0,>=0.3.70 in /Users/sreekanthpogula/Learnings/deploy-llm-with-langchain-fastapi-starter-kit/.venv/lib/python3.11/site-packages (from langchain-huggingface) (0.3.72)\n",
      "Requirement already satisfied: tokenizers>=0.19.1 in /Users/sreekanthpogula/Learnings/deploy-llm-with-langchain-fastapi-starter-kit/.venv/lib/python3.11/site-packages (from langchain-huggingface) (0.21.2)\n",
      "Requirement already satisfied: huggingface-hub>=0.33.4 in /Users/sreekanthpogula/Learnings/deploy-llm-with-langchain-fastapi-starter-kit/.venv/lib/python3.11/site-packages (from langchain-huggingface) (0.33.4)\n",
      "Requirement already satisfied: langsmith>=0.3.45 in /Users/sreekanthpogula/Learnings/deploy-llm-with-langchain-fastapi-starter-kit/.venv/lib/python3.11/site-packages (from langchain-core<1.0.0,>=0.3.70->langchain-huggingface) (0.4.8)\n",
      "Requirement already satisfied: tenacity!=8.4.0,<10.0.0,>=8.1.0 in /Users/sreekanthpogula/Learnings/deploy-llm-with-langchain-fastapi-starter-kit/.venv/lib/python3.11/site-packages (from langchain-core<1.0.0,>=0.3.70->langchain-huggingface) (8.5.0)\n",
      "Requirement already satisfied: jsonpatch<2.0,>=1.33 in /Users/sreekanthpogula/Learnings/deploy-llm-with-langchain-fastapi-starter-kit/.venv/lib/python3.11/site-packages (from langchain-core<1.0.0,>=0.3.70->langchain-huggingface) (1.33)\n",
      "Requirement already satisfied: PyYAML>=5.3 in /Users/sreekanthpogula/Learnings/deploy-llm-with-langchain-fastapi-starter-kit/.venv/lib/python3.11/site-packages (from langchain-core<1.0.0,>=0.3.70->langchain-huggingface) (6.0.2)\n",
      "Requirement already satisfied: typing-extensions>=4.7 in /Users/sreekanthpogula/Learnings/deploy-llm-with-langchain-fastapi-starter-kit/.venv/lib/python3.11/site-packages (from langchain-core<1.0.0,>=0.3.70->langchain-huggingface) (4.14.1)\n",
      "Requirement already satisfied: packaging>=23.2 in /Users/sreekanthpogula/Learnings/deploy-llm-with-langchain-fastapi-starter-kit/.venv/lib/python3.11/site-packages (from langchain-core<1.0.0,>=0.3.70->langchain-huggingface) (25.0)\n",
      "Requirement already satisfied: pydantic>=2.7.4 in /Users/sreekanthpogula/Learnings/deploy-llm-with-langchain-fastapi-starter-kit/.venv/lib/python3.11/site-packages (from langchain-core<1.0.0,>=0.3.70->langchain-huggingface) (2.11.7)\n",
      "Requirement already satisfied: jsonpointer>=1.9 in /Users/sreekanthpogula/Learnings/deploy-llm-with-langchain-fastapi-starter-kit/.venv/lib/python3.11/site-packages (from jsonpatch<2.0,>=1.33->langchain-core<1.0.0,>=0.3.70->langchain-huggingface) (3.0.0)\n",
      "Requirement already satisfied: filelock in /Users/sreekanthpogula/Learnings/deploy-llm-with-langchain-fastapi-starter-kit/.venv/lib/python3.11/site-packages (from huggingface-hub>=0.33.4->langchain-huggingface) (3.18.0)\n",
      "Requirement already satisfied: fsspec>=2023.5.0 in /Users/sreekanthpogula/Learnings/deploy-llm-with-langchain-fastapi-starter-kit/.venv/lib/python3.11/site-packages (from huggingface-hub>=0.33.4->langchain-huggingface) (2025.7.0)\n",
      "Requirement already satisfied: requests in /Users/sreekanthpogula/Learnings/deploy-llm-with-langchain-fastapi-starter-kit/.venv/lib/python3.11/site-packages (from huggingface-hub>=0.33.4->langchain-huggingface) (2.32.4)\n",
      "Requirement already satisfied: tqdm>=4.42.1 in /Users/sreekanthpogula/Learnings/deploy-llm-with-langchain-fastapi-starter-kit/.venv/lib/python3.11/site-packages (from huggingface-hub>=0.33.4->langchain-huggingface) (4.67.1)\n",
      "Requirement already satisfied: hf-xet<2.0.0,>=1.1.2 in /Users/sreekanthpogula/Learnings/deploy-llm-with-langchain-fastapi-starter-kit/.venv/lib/python3.11/site-packages (from huggingface-hub>=0.33.4->langchain-huggingface) (1.1.5)\n",
      "Requirement already satisfied: httpx<1,>=0.23.0 in /Users/sreekanthpogula/Learnings/deploy-llm-with-langchain-fastapi-starter-kit/.venv/lib/python3.11/site-packages (from langsmith>=0.3.45->langchain-core<1.0.0,>=0.3.70->langchain-huggingface) (0.28.1)\n",
      "Requirement already satisfied: orjson<4.0.0,>=3.9.14 in /Users/sreekanthpogula/Learnings/deploy-llm-with-langchain-fastapi-starter-kit/.venv/lib/python3.11/site-packages (from langsmith>=0.3.45->langchain-core<1.0.0,>=0.3.70->langchain-huggingface) (3.11.0)\n",
      "Requirement already satisfied: requests-toolbelt<2.0.0,>=1.0.0 in /Users/sreekanthpogula/Learnings/deploy-llm-with-langchain-fastapi-starter-kit/.venv/lib/python3.11/site-packages (from langsmith>=0.3.45->langchain-core<1.0.0,>=0.3.70->langchain-huggingface) (1.0.0)\n",
      "Requirement already satisfied: zstandard<0.24.0,>=0.23.0 in /Users/sreekanthpogula/Learnings/deploy-llm-with-langchain-fastapi-starter-kit/.venv/lib/python3.11/site-packages (from langsmith>=0.3.45->langchain-core<1.0.0,>=0.3.70->langchain-huggingface) (0.23.0)\n",
      "Requirement already satisfied: anyio in /Users/sreekanthpogula/Learnings/deploy-llm-with-langchain-fastapi-starter-kit/.venv/lib/python3.11/site-packages (from httpx<1,>=0.23.0->langsmith>=0.3.45->langchain-core<1.0.0,>=0.3.70->langchain-huggingface) (4.9.0)\n",
      "Requirement already satisfied: certifi in /Users/sreekanthpogula/Learnings/deploy-llm-with-langchain-fastapi-starter-kit/.venv/lib/python3.11/site-packages (from httpx<1,>=0.23.0->langsmith>=0.3.45->langchain-core<1.0.0,>=0.3.70->langchain-huggingface) (2025.7.14)\n",
      "Requirement already satisfied: httpcore==1.* in /Users/sreekanthpogula/Learnings/deploy-llm-with-langchain-fastapi-starter-kit/.venv/lib/python3.11/site-packages (from httpx<1,>=0.23.0->langsmith>=0.3.45->langchain-core<1.0.0,>=0.3.70->langchain-huggingface) (1.0.9)\n",
      "Requirement already satisfied: idna in /Users/sreekanthpogula/Learnings/deploy-llm-with-langchain-fastapi-starter-kit/.venv/lib/python3.11/site-packages (from httpx<1,>=0.23.0->langsmith>=0.3.45->langchain-core<1.0.0,>=0.3.70->langchain-huggingface) (3.10)\n",
      "Requirement already satisfied: h11>=0.16 in /Users/sreekanthpogula/Learnings/deploy-llm-with-langchain-fastapi-starter-kit/.venv/lib/python3.11/site-packages (from httpcore==1.*->httpx<1,>=0.23.0->langsmith>=0.3.45->langchain-core<1.0.0,>=0.3.70->langchain-huggingface) (0.16.0)\n",
      "Requirement already satisfied: annotated-types>=0.6.0 in /Users/sreekanthpogula/Learnings/deploy-llm-with-langchain-fastapi-starter-kit/.venv/lib/python3.11/site-packages (from pydantic>=2.7.4->langchain-core<1.0.0,>=0.3.70->langchain-huggingface) (0.7.0)\n",
      "Requirement already satisfied: pydantic-core==2.33.2 in /Users/sreekanthpogula/Learnings/deploy-llm-with-langchain-fastapi-starter-kit/.venv/lib/python3.11/site-packages (from pydantic>=2.7.4->langchain-core<1.0.0,>=0.3.70->langchain-huggingface) (2.33.2)\n",
      "Requirement already satisfied: typing-inspection>=0.4.0 in /Users/sreekanthpogula/Learnings/deploy-llm-with-langchain-fastapi-starter-kit/.venv/lib/python3.11/site-packages (from pydantic>=2.7.4->langchain-core<1.0.0,>=0.3.70->langchain-huggingface) (0.4.1)\n",
      "Requirement already satisfied: charset_normalizer<4,>=2 in /Users/sreekanthpogula/Learnings/deploy-llm-with-langchain-fastapi-starter-kit/.venv/lib/python3.11/site-packages (from requests->huggingface-hub>=0.33.4->langchain-huggingface) (3.4.2)\n",
      "Requirement already satisfied: urllib3<3,>=1.21.1 in /Users/sreekanthpogula/Learnings/deploy-llm-with-langchain-fastapi-starter-kit/.venv/lib/python3.11/site-packages (from requests->huggingface-hub>=0.33.4->langchain-huggingface) (2.5.0)\n",
      "Requirement already satisfied: sniffio>=1.1 in /Users/sreekanthpogula/Learnings/deploy-llm-with-langchain-fastapi-starter-kit/.venv/lib/python3.11/site-packages (from anyio->httpx<1,>=0.23.0->langsmith>=0.3.45->langchain-core<1.0.0,>=0.3.70->langchain-huggingface) (1.3.1)\n",
      "Requirement already satisfied: transformers in /Users/sreekanthpogula/Learnings/deploy-llm-with-langchain-fastapi-starter-kit/.venv/lib/python3.11/site-packages (4.53.3)\n",
      "Requirement already satisfied: filelock in /Users/sreekanthpogula/Learnings/deploy-llm-with-langchain-fastapi-starter-kit/.venv/lib/python3.11/site-packages (from transformers) (3.18.0)\n",
      "Requirement already satisfied: huggingface-hub<1.0,>=0.30.0 in /Users/sreekanthpogula/Learnings/deploy-llm-with-langchain-fastapi-starter-kit/.venv/lib/python3.11/site-packages (from transformers) (0.33.4)\n",
      "Requirement already satisfied: numpy>=1.17 in /Users/sreekanthpogula/Learnings/deploy-llm-with-langchain-fastapi-starter-kit/.venv/lib/python3.11/site-packages (from transformers) (2.3.1)\n",
      "Requirement already satisfied: packaging>=20.0 in /Users/sreekanthpogula/Learnings/deploy-llm-with-langchain-fastapi-starter-kit/.venv/lib/python3.11/site-packages (from transformers) (25.0)\n",
      "Requirement already satisfied: pyyaml>=5.1 in /Users/sreekanthpogula/Learnings/deploy-llm-with-langchain-fastapi-starter-kit/.venv/lib/python3.11/site-packages (from transformers) (6.0.2)\n",
      "Requirement already satisfied: regex!=2019.12.17 in /Users/sreekanthpogula/Learnings/deploy-llm-with-langchain-fastapi-starter-kit/.venv/lib/python3.11/site-packages (from transformers) (2024.11.6)\n",
      "Requirement already satisfied: requests in /Users/sreekanthpogula/Learnings/deploy-llm-with-langchain-fastapi-starter-kit/.venv/lib/python3.11/site-packages (from transformers) (2.32.4)\n",
      "Requirement already satisfied: tokenizers<0.22,>=0.21 in /Users/sreekanthpogula/Learnings/deploy-llm-with-langchain-fastapi-starter-kit/.venv/lib/python3.11/site-packages (from transformers) (0.21.2)\n",
      "Requirement already satisfied: safetensors>=0.4.3 in /Users/sreekanthpogula/Learnings/deploy-llm-with-langchain-fastapi-starter-kit/.venv/lib/python3.11/site-packages (from transformers) (0.5.3)\n",
      "Requirement already satisfied: tqdm>=4.27 in /Users/sreekanthpogula/Learnings/deploy-llm-with-langchain-fastapi-starter-kit/.venv/lib/python3.11/site-packages (from transformers) (4.67.1)\n",
      "Requirement already satisfied: fsspec>=2023.5.0 in /Users/sreekanthpogula/Learnings/deploy-llm-with-langchain-fastapi-starter-kit/.venv/lib/python3.11/site-packages (from huggingface-hub<1.0,>=0.30.0->transformers) (2025.7.0)\n",
      "Requirement already satisfied: typing-extensions>=3.7.4.3 in /Users/sreekanthpogula/Learnings/deploy-llm-with-langchain-fastapi-starter-kit/.venv/lib/python3.11/site-packages (from huggingface-hub<1.0,>=0.30.0->transformers) (4.14.1)\n",
      "Requirement already satisfied: hf-xet<2.0.0,>=1.1.2 in /Users/sreekanthpogula/Learnings/deploy-llm-with-langchain-fastapi-starter-kit/.venv/lib/python3.11/site-packages (from huggingface-hub<1.0,>=0.30.0->transformers) (1.1.5)\n",
      "Requirement already satisfied: charset_normalizer<4,>=2 in /Users/sreekanthpogula/Learnings/deploy-llm-with-langchain-fastapi-starter-kit/.venv/lib/python3.11/site-packages (from requests->transformers) (3.4.2)\n",
      "Requirement already satisfied: idna<4,>=2.5 in /Users/sreekanthpogula/Learnings/deploy-llm-with-langchain-fastapi-starter-kit/.venv/lib/python3.11/site-packages (from requests->transformers) (3.10)\n",
      "Requirement already satisfied: urllib3<3,>=1.21.1 in /Users/sreekanthpogula/Learnings/deploy-llm-with-langchain-fastapi-starter-kit/.venv/lib/python3.11/site-packages (from requests->transformers) (2.5.0)\n",
      "Requirement already satisfied: certifi>=2017.4.17 in /Users/sreekanthpogula/Learnings/deploy-llm-with-langchain-fastapi-starter-kit/.venv/lib/python3.11/site-packages (from requests->transformers) (2025.7.14)\n"
     ]
    }
   ],
   "source": [
    "!pip install langchain-huggingface\n",
    "!pip install transformers"
   ]
  },
  {
   "cell_type": "code",
   "execution_count": null,
   "id": "1f27442c",
   "metadata": {},
   "outputs": [
    {
     "name": "stderr",
     "output_type": "stream",
     "text": [
      "Fetching 2 files:   0%|          | 0/2 [00:00<?, ?it/s]"
     ]
    }
   ],
   "source": [
    "from langchain_huggingface import HuggingFacePipeline\n",
    "\n",
    "llm = HuggingFacePipeline.from_model_id(\n",
    "    model_id=\"microsoft/phi-3-mini-4k-instruct\",\n",
    "    task=\"text-generation\",\n",
    "    pipeline_kwargs={\"temperature\": 0.1, \"max_new_tokens\": 100, \"top_k\": 50},\n",
    ")\n"
   ]
  },
  {
   "cell_type": "code",
   "execution_count": null,
   "id": "b7341051",
   "metadata": {},
   "outputs": [],
   "source": [
    "llm.invoke(\"Hugging face is\")"
   ]
  },
  {
   "cell_type": "code",
   "execution_count": null,
   "id": "3405a2d6",
   "metadata": {},
   "outputs": [],
   "source": [
    "## Langchain with HuggingFaceEnd Point\n",
    "import os\n",
    "os.environ[\"HUGGINGFACEHUB_API_TOKEN\"]=\"\""
   ]
  },
  {
   "cell_type": "markdown",
   "id": "3120cbd8",
   "metadata": {},
   "source": [
    "Using HuggingFaceEndpoint"
   ]
  },
  {
   "cell_type": "code",
   "execution_count": null,
   "id": "95c22fb3",
   "metadata": {},
   "outputs": [],
   "source": [
    "from langchain_huggingface import HuggingFaceEndpoint\n",
    "\n",
    "llm = HuggingFaceEndpoint(\n",
    "    repo_id=\"meta-llama/Meta-Llama-3-8B-Instruct\",\n",
    "    task=\"text-generation\",\n",
    "    max_new_tokens=100,\n",
    "    do_sample=False,\n",
    ")\n",
    "llm.invoke(\"Hugging Face is\")\n"
   ]
  },
  {
   "cell_type": "code",
   "execution_count": null,
   "id": "3250a2e3",
   "metadata": {},
   "outputs": [],
   "source": []
  },
  {
   "cell_type": "code",
   "execution_count": null,
   "id": "767b8599",
   "metadata": {},
   "outputs": [],
   "source": []
  },
  {
   "cell_type": "code",
   "execution_count": null,
   "id": "a53ddd17",
   "metadata": {},
   "outputs": [],
   "source": []
  },
  {
   "cell_type": "code",
   "execution_count": null,
   "id": "9c17a9f2",
   "metadata": {},
   "outputs": [],
   "source": []
  },
  {
   "cell_type": "code",
   "execution_count": null,
   "id": "1bf886f3",
   "metadata": {},
   "outputs": [],
   "source": []
  }
 ],
 "metadata": {
  "kernelspec": {
   "display_name": ".venv",
   "language": "python",
   "name": "python3"
  },
  "language_info": {
   "codemirror_mode": {
    "name": "ipython",
    "version": 3
   },
   "file_extension": ".py",
   "mimetype": "text/x-python",
   "name": "python",
   "nbconvert_exporter": "python",
   "pygments_lexer": "ipython3",
   "version": "3.11.9"
  }
 },
 "nbformat": 4,
 "nbformat_minor": 5
}
